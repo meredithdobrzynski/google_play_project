{
 "cells": [
  {
   "cell_type": "markdown",
   "metadata": {},
   "source": [
    "# Google Play Store Data\n",
    "\n",
    "We will predit the rating of a Google Play Store app as a function of its attributes. We get our data from this source: https://www.kaggle.com/lava18/google-play-store-apps\n",
    "\n",
    "Our first step will be to import all of the modules we need, and then load the data."
   ]
  },
  {
   "cell_type": "code",
   "execution_count": 2,
   "metadata": {},
   "outputs": [
    {
     "name": "stderr",
     "output_type": "stream",
     "text": [
      "\u001b[32m\u001b[1m   Updating\u001b[22m\u001b[39m registry at `~/.julia/registries/General`\n",
      "######################################################################### 100.0%\n",
      "\u001b[32m\u001b[1m  Resolving\u001b[22m\u001b[39m package versions...\n",
      "\u001b[32m\u001b[1mNo Changes\u001b[22m\u001b[39m to `~/.julia/environments/v1.5/Project.toml`\n",
      "\u001b[32m\u001b[1mNo Changes\u001b[22m\u001b[39m to `~/.julia/environments/v1.5/Manifest.toml`\n",
      "\u001b[32m\u001b[1m  Resolving\u001b[22m\u001b[39m package versions...\n",
      "\u001b[32m\u001b[1mNo Changes\u001b[22m\u001b[39m to `~/.julia/environments/v1.5/Project.toml`\n",
      "\u001b[32m\u001b[1mNo Changes\u001b[22m\u001b[39m to `~/.julia/environments/v1.5/Manifest.toml`\n",
      "\u001b[32m\u001b[1m  Resolving\u001b[22m\u001b[39m package versions...\n",
      "\u001b[32m\u001b[1mNo Changes\u001b[22m\u001b[39m to `~/.julia/environments/v1.5/Project.toml`\n",
      "\u001b[32m\u001b[1mNo Changes\u001b[22m\u001b[39m to `~/.julia/environments/v1.5/Manifest.toml`\n",
      "\u001b[32m\u001b[1m  Resolving\u001b[22m\u001b[39m package versions...\n",
      "\u001b[32m\u001b[1mNo Changes\u001b[22m\u001b[39m to `~/.julia/environments/v1.5/Project.toml`\n",
      "\u001b[32m\u001b[1mNo Changes\u001b[22m\u001b[39m to `~/.julia/environments/v1.5/Manifest.toml`\n"
     ]
    }
   ],
   "source": [
    "import Pkg\n",
    "Pkg.add(\"CSV\")\n",
    "Pkg.add(\"Plots\")\n",
    "Pkg.add(\"DataFrames\")\n",
    "Pkg.add(\"Statistics\")\n",
    "\n",
    "using Random\n",
    "Random.seed!(13)\n",
    "\n",
    "using CSV\n",
    "using Plots\n",
    "using DataFrames\n",
    "using Statistics\n",
    "using LinearAlgebra"
   ]
  },
  {
   "cell_type": "code",
   "execution_count": 45,
   "metadata": {},
   "outputs": [
    {
     "name": "stdout",
     "output_type": "stream",
     "text": [
      "thread = 1 warning: only found 12 / 13 columns around data row: 10474. Filling remaining columns with `missing`\n",
      "thread = 1 warning: only found 12 / 13 columns around data row: 10474. Filling remaining columns with `missing`\n",
      "1\tApp\t\t\tString\n",
      "2\tCategory\t\t\tString\n",
      "3\tRating\t\t\tFloat64\n",
      "4\tReviews\t\t\tString\n",
      "5\tSize\t\t\tString\n",
      "6\tInstalls\t\t\tString\n",
      "7\tType\t\t\tString\n",
      "8\tPrice\t\t\tString\n",
      "9\tContentRating\t\t\tUnion{Missing, String}\n",
      "10\tGenres\t\t\tString\n",
      "11\tLastUpdated\t\t\tString\n",
      "12\tCurrentVer\t\t\tUnion{Missing, String}\n",
      "13\tAndroidVer\t\t\tUnion{Missing, String}\n"
     ]
    }
   ],
   "source": [
    "df = CSV.read(\"googleplaystore.csv\")\n",
    "names!(df, Symbol.(replace.(string.(names(df)), Ref(r\"\\s\"=>\"\")))) #remove whitespace from column names\n",
    "feature_names = names(df)\n",
    "for i in 1:13\n",
    "    println(string(i), \"\\t\", string(feature_names[i]), \"\\t\\t\\t\", string(eltype(df[!, i])))\n",
    "end"
   ]
  },
  {
   "cell_type": "markdown",
   "metadata": {},
   "source": [
    "## Clean Data"
   ]
  },
  {
   "cell_type": "code",
   "execution_count": 46,
   "metadata": {},
   "outputs": [],
   "source": [
    "#Clean Ratings column \n",
    "\n",
    "new_ratings = Float64[]\n",
    "for idx=1:size(df,1)\n",
    "    if !isnan(df[idx, :Rating])\n",
    "        push!(new_ratings, df[idx, :Rating])\n",
    "    end\n",
    "end \n",
    "        \n",
    "for idx=1:size(df,1)\n",
    "    if isnan(df[idx, :Rating])\n",
    "        df[idx, :Rating]=round(mean(new_ratings), digits=1)   #set NaN Rating values equal to the mean \n",
    "    end\n",
    "end"
   ]
  },
  {
   "cell_type": "code",
   "execution_count": 51,
   "metadata": {},
   "outputs": [],
   "source": [
    "#Clean Size column\n",
    "\n",
    "\"This function converts strings to floating point values.\n",
    "Strings that cannot be represented as a number (like NA) are converted to zeros\"\n",
    "function string_to_float(str)\n",
    "    try\n",
    "        parse(Float64, str)\n",
    "    catch\n",
    "       0.0\n",
    "    end\n",
    "end\n",
    "\n",
    "for idx=1:size(df,1)\n",
    "    df[idx, :Size] = rstrip(df[idx, :Size], 'M')\n",
    "    if rstrip(df[idx, :Size], 'k') != df[idx, :Size]\n",
    "        df[idx, :Size] = string((round(string_to_float(rstrip(df[idx, :Size], 'k'))/1000, digits=1)))\n",
    "    end\n",
    "    if lstrip(df[idx, :Size], 'V') != df[idx, :Size]\n",
    "        df[idx, :Size] = \"\"\n",
    "    end\n",
    "end"
   ]
  },
  {
   "cell_type": "code",
   "execution_count": 53,
   "metadata": {},
   "outputs": [],
   "source": [
    "#Clean Installs column\n",
    "\n",
    "for idx=1:size(df,1)\n",
    "    df[idx, :Installs] = rstrip(df[idx, :Size], '+')\n",
    "end"
   ]
  },
  {
   "cell_type": "markdown",
   "metadata": {},
   "source": [
    "## Train/Test Split\n",
    "\n",
    "To make the 80 / 20 train test split, we are going to shuffle the data, and then select the first 80%\n",
    "  as the train data, with 20%\n",
    "  held out for validation."
   ]
  },
  {
   "cell_type": "code",
   "execution_count": 57,
   "metadata": {},
   "outputs": [
    {
     "name": "stdout",
     "output_type": "stream",
     "text": [
      "Size of dataset: 10841\n"
     ]
    },
    {
     "data": {
      "text/plain": [
       "2168×1 Array{Float64,2}:\n",
       " 4.6\n",
       " 4.6\n",
       " 4.0\n",
       " 5.0\n",
       " 4.2\n",
       " 4.3\n",
       " 4.7\n",
       " 3.8\n",
       " 5.0\n",
       " 4.3\n",
       " 4.2\n",
       " 3.9\n",
       " 4.7\n",
       " ⋮\n",
       " 4.1\n",
       " 4.1\n",
       " 3.9\n",
       " 4.3\n",
       " 4.3\n",
       " 4.8\n",
       " 4.2\n",
       " 4.4\n",
       " 4.3\n",
       " 4.5\n",
       " 4.6\n",
       " 4.5"
      ]
     },
     "execution_count": 57,
     "metadata": {},
     "output_type": "execute_result"
    }
   ],
   "source": [
    "feature_names = names(df)\n",
    "\n",
    "df = df[shuffle(1:end), :] # we shuffle the data so that our train/test split will be truly random\n",
    "\n",
    "train_proportion = 0.8\n",
    "n = size(df, 1)\n",
    "println(\"Size of dataset: \", string(n))\n",
    "\n",
    "# Put the first ntrain observations in the DataFrame df into the training set, and the rest into the test set\n",
    "ntrain = convert(Int, round(train_proportion*n))\n",
    "ntest = n-ntrain\n",
    "\n",
    "target = df[:, :Rating]\n",
    "data = df[:, filter(col -> (col != :Rating), feature_names)]\n",
    "\n",
    "# the following variable records the features of examples in the training set\n",
    "train_x = data[1:ntrain,:]\n",
    "# the following variable records the features of examples in the test set\n",
    "test_x = data[ntrain+1:n,:]\n",
    "# the following variable records the labels of examples in the training set\n",
    "train_y = target[1:ntrain,:]\n",
    "# the following variable records the labels of examples in the test set\n",
    "test_y = target[ntrain+1:n,:]"
   ]
  },
  {
   "cell_type": "code",
   "execution_count": null,
   "metadata": {
    "collapsed": true
   },
   "outputs": [],
   "source": []
  }
 ],
 "metadata": {
  "kernelspec": {
   "display_name": "Julia 1.5.1",
   "language": "julia",
   "name": "julia-1.5"
  },
  "language_info": {
   "file_extension": ".jl",
   "mimetype": "application/julia",
   "name": "julia",
   "version": "1.5.1"
  }
 },
 "nbformat": 4,
 "nbformat_minor": 2
}
