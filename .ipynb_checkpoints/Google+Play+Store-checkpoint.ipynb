{
 "cells": [
  {
   "cell_type": "markdown",
   "metadata": {},
   "source": [
    "# Google Play Store Data\n",
    "\n",
    "We will predit the rating of a Google Play Store app as a function of its attributes. We get our data from this source: https://www.kaggle.com/lava18/google-play-store-apps\n",
    "\n",
    "Our first step will be to import all of the modules we need, and then load the data."
   ]
  },
  {
   "cell_type": "code",
   "execution_count": 1,
   "metadata": {},
   "outputs": [
    {
     "name": "stderr",
     "output_type": "stream",
     "text": [
      "\u001b[32m\u001b[1m   Updating\u001b[22m\u001b[39m registry at `~/.julia/registries/General`\n",
      "\u001b[32m\u001b[1m  Resolving\u001b[22m\u001b[39m package versions...\n",
      "\u001b[32m\u001b[1mNo Changes\u001b[22m\u001b[39m to `~/.julia/environments/v1.5/Project.toml`\n",
      "\u001b[32m\u001b[1mNo Changes\u001b[22m\u001b[39m to `~/.julia/environments/v1.5/Manifest.toml`\n",
      "\u001b[32m\u001b[1m  Resolving\u001b[22m\u001b[39m package versions...\n",
      "\u001b[32m\u001b[1mNo Changes\u001b[22m\u001b[39m to `~/.julia/environments/v1.5/Project.toml`\n",
      "\u001b[32m\u001b[1mNo Changes\u001b[22m\u001b[39m to `~/.julia/environments/v1.5/Manifest.toml`\n",
      "\u001b[32m\u001b[1m  Resolving\u001b[22m\u001b[39m package versions...\n",
      "\u001b[32m\u001b[1mNo Changes\u001b[22m\u001b[39m to `~/.julia/environments/v1.5/Project.toml`\n",
      "\u001b[32m\u001b[1mNo Changes\u001b[22m\u001b[39m to `~/.julia/environments/v1.5/Manifest.toml`\n",
      "\u001b[32m\u001b[1m  Resolving\u001b[22m\u001b[39m package versions...\n",
      "\u001b[32m\u001b[1mNo Changes\u001b[22m\u001b[39m to `~/.julia/environments/v1.5/Project.toml`\n",
      "\u001b[32m\u001b[1mNo Changes\u001b[22m\u001b[39m to `~/.julia/environments/v1.5/Manifest.toml`\n",
      "\u001b[32m\u001b[1m  Resolving\u001b[22m\u001b[39m package versions...\n",
      "\u001b[32m\u001b[1mNo Changes\u001b[22m\u001b[39m to `~/.julia/environments/v1.5/Project.toml`\n",
      "\u001b[32m\u001b[1mNo Changes\u001b[22m\u001b[39m to `~/.julia/environments/v1.5/Manifest.toml`\n"
     ]
    },
    {
     "data": {
      "text/plain": [
       "Plots.PyPlotBackend()"
      ]
     },
     "execution_count": 1,
     "metadata": {},
     "output_type": "execute_result"
    }
   ],
   "source": [
    "import Pkg\n",
    "Pkg.add(\"CSV\")\n",
    "# Pkg.add(\"Plots\")\n",
    "Pkg.add(\"DataFrames\")\n",
    "Pkg.add(\"Statistics\")\n",
    "Pkg.add(\"StatsPlots\")\n",
    "Pkg.add(\"Measures\")\n",
    "\n",
    "using Random\n",
    "Random.seed!(13)\n",
    "\n",
    "using CSV\n",
    "# using Plots\n",
    "using DataFrames\n",
    "using StatsPlots\n",
    "using Statistics\n",
    "using LinearAlgebra\n",
    "using Measures\n",
    "pyplot()"
   ]
  },
  {
   "cell_type": "code",
   "execution_count": 2,
   "metadata": {},
   "outputs": [
    {
     "name": "stdout",
     "output_type": "stream",
     "text": [
      "thread = 1 warning: only found 12 / 13 columns around data row: 10474. Filling remaining columns with `missing`\n",
      "thread = 1 warning: only found 12 / 13 columns around data row: 10474. Filling remaining columns with `missing`\n",
      "1\tApp\t\t\tString\n",
      "2\tCategory\t\t\tString\n",
      "3\tRating\t\t\tFloat64\n",
      "4\tReviews\t\t\tString\n",
      "5\tSize\t\t\tString\n",
      "6\tInstalls\t\t\tString\n",
      "7\tType\t\t\tString\n",
      "8\tPrice\t\t\tString\n",
      "9\tContentRating\t\t\tUnion{Missing, String}\n",
      "10\tGenres\t\t\tString\n",
      "11\tLastUpdated\t\t\tString\n",
      "12\tCurrentVer\t\t\tUnion{Missing, String}\n",
      "13\tAndroidVer\t\t\tUnion{Missing, String}\n"
     ]
    }
   ],
   "source": [
    "apps = CSV.read(\"googleplaystore.csv\", pool=false)\n",
    "names!(apps, Symbol.(replace.(string.(names(apps)), Ref(r\"\\s\"=>\"\")))) #remove whitespace from column names\n",
    "feature_names = names(apps)\n",
    "for i in 1:13\n",
    "    println(string(i), \"\\t\", string(feature_names[i]), \"\\t\\t\\t\", string(eltype(apps[!, i])))\n",
    "end"
   ]
  },
  {
   "cell_type": "markdown",
   "metadata": {},
   "source": [
    "# (A) Clean Data"
   ]
  },
  {
   "cell_type": "code",
   "execution_count": 3,
   "metadata": {},
   "outputs": [],
   "source": [
    "#Clean Ratings column \n",
    "\n",
    "new_ratings = Float64[]\n",
    "for idx=1:size(apps,1)\n",
    "    if !isnan(apps[idx, :Rating])\n",
    "        push!(new_ratings, apps[idx, :Rating])\n",
    "    end\n",
    "end \n",
    "        \n",
    "for idx=1:size(apps,1)\n",
    "    if isnan(apps[idx, :Rating])\n",
    "        apps[idx, :Rating]=round(mean(new_ratings), digits=1)   #set NaN Rating values equal to the mean \n",
    "    end\n",
    "end"
   ]
  },
  {
   "cell_type": "code",
   "execution_count": 4,
   "metadata": {},
   "outputs": [
    {
     "data": {
      "text/plain": [
       "Array{String,1}"
      ]
     },
     "execution_count": 4,
     "metadata": {},
     "output_type": "execute_result"
    }
   ],
   "source": [
    "#Clean Size column\n",
    "\n",
    "\"This function converts strings to floating point values.\n",
    "Strings that cannot be represented as a number (like NA) are converted to zeros\"\n",
    "function string_to_float(str)\n",
    "    try\n",
    "        parse(Float64, str)\n",
    "    catch\n",
    "       0.0\n",
    "    end\n",
    "end\n",
    "\n",
    "for idx=1:size(apps,1)\n",
    "    apps[idx, :Size] = rstrip(apps[idx, :Size], 'M')\n",
    "    if rstrip(apps[idx, :Size], 'k') != apps[idx, :Size]\n",
    "        apps[idx, :Size] = string((round(string_to_float(rstrip(apps[idx, :Size], 'k'))/1000, digits=1)))\n",
    "    end\n",
    "    if lstrip(apps[idx, :Size], 'V') != apps[idx, :Size]\n",
    "        apps[idx, :Size] = \"\"\n",
    "    end\n",
    "end\n",
    "\n",
    "typeof(apps[:, :Size])"
   ]
  },
  {
   "cell_type": "code",
   "execution_count": 5,
   "metadata": {},
   "outputs": [],
   "source": [
    "#Clean Installs column\n",
    "\n",
    "for idx=1:size(apps,1)\n",
    "    apps[idx, :Installs] = replace(rstrip(apps[idx, :Installs], '+'), \",\" => \"\")\n",
    "end"
   ]
  },
  {
   "cell_type": "raw",
   "metadata": {},
   "source": [
    "#Clean Type column\n",
    "\n",
    "apps = filter(row -> !(row.Type in [\"NaN\"]), apps);\n",
    "\n",
    "for idx=1:size(apps,1)\n",
    "    if apps[idx, :Type] == \"0\"\n",
    "        apps[idx, :Type] = \"Free\"\n",
    "    end\n",
    "end \n",
    "\n",
    "typeof(apps[:, :Type])"
   ]
  },
  {
   "cell_type": "code",
   "execution_count": 6,
   "metadata": {},
   "outputs": [
    {
     "data": {
      "text/plain": [
       "Array{String,1}"
      ]
     },
     "execution_count": 6,
     "metadata": {},
     "output_type": "execute_result"
    }
   ],
   "source": [
    "#Clean Content Rating column \n",
    "\n",
    "new_content_ratings = String[]\n",
    "for idx=1:size(apps,1)\n",
    "    if ismissing(apps[idx, :ContentRating])\n",
    "        push!(new_content_ratings, \"Unrated\")\n",
    "    else\n",
    "        push!(new_content_ratings, apps[idx, :ContentRating])\n",
    "    end\n",
    "end \n",
    "\n",
    "apps = select!(apps, Not(:ContentRating))\n",
    "insert!(apps, 9, new_content_ratings, :ContentRating)\n",
    "typeof(apps[:, :ContentRating])\n"
   ]
  },
  {
   "cell_type": "code",
   "execution_count": 7,
   "metadata": {},
   "outputs": [],
   "source": [
    "#Clean Category column \n",
    "\n",
    "apps = filter(row -> !(row.Category in [\"1.9\"]), apps);"
   ]
  },
  {
   "cell_type": "markdown",
   "metadata": {},
   "source": [
    "# (B) Train/Test Split\n",
    "\n",
    "To make the 80 / 20 train test split, we are going to shuffle the data, and then select the first 80%\n",
    "  as the train data, with 20%\n",
    "  held out for validation."
   ]
  },
  {
   "cell_type": "code",
   "execution_count": 8,
   "metadata": {},
   "outputs": [
    {
     "name": "stdout",
     "output_type": "stream",
     "text": [
      "Size of dataset: 10840\n"
     ]
    },
    {
     "data": {
      "text/plain": [
       "2168×1 Array{Float64,2}:\n",
       " 4.3\n",
       " 4.3\n",
       " 4.1\n",
       " 4.2\n",
       " 4.3\n",
       " 2.4\n",
       " 4.2\n",
       " 3.7\n",
       " 4.1\n",
       " 4.4\n",
       " 3.3\n",
       " 3.5\n",
       " 4.7\n",
       " ⋮\n",
       " 4.4\n",
       " 4.2\n",
       " 4.7\n",
       " 3.5\n",
       " 4.4\n",
       " 4.2\n",
       " 4.4\n",
       " 4.2\n",
       " 3.7\n",
       " 4.2\n",
       " 4.4\n",
       " 4.6"
      ]
     },
     "execution_count": 8,
     "metadata": {},
     "output_type": "execute_result"
    }
   ],
   "source": [
    "feature_names = names(apps)\n",
    "\n",
    "apps = apps[shuffle(1:end), :] # we shuffle the data so that our train/test split will be truly random\n",
    "\n",
    "train_proportion = 0.8\n",
    "n = size(apps, 1)\n",
    "println(\"Size of dataset: \", string(n))\n",
    "\n",
    "# Put the first ntrain observations in the DataFrame df into the training set, and the rest into the test set\n",
    "ntrain = convert(Int, round(train_proportion*n))\n",
    "ntest = n-ntrain\n",
    "\n",
    "target = apps[:, :Rating]\n",
    "data = apps[:, filter(col -> (col != :Rating), feature_names)]\n",
    "\n",
    "# the following variable records the features of examples in the training set\n",
    "train_x = data[1:ntrain,:]\n",
    "# the following variable records the features of examples in the test set\n",
    "test_x = data[ntrain+1:n,:]\n",
    "# the following variable records the labels of examples in the training set\n",
    "train_y = target[1:ntrain,:]\n",
    "# the following variable records the labels of examples in the test set\n",
    "test_y = target[ntrain+1:n,:]"
   ]
  },
  {
   "cell_type": "code",
   "execution_count": 9,
   "metadata": {},
   "outputs": [
    {
     "data": {
      "text/plain": [
       "3-element Array{Symbol,1}:\n",
       " :Reviews\n",
       " :Size\n",
       " :Installs"
      ]
     },
     "execution_count": 9,
     "metadata": {},
     "output_type": "execute_result"
    }
   ],
   "source": [
    "labels_real = [\n",
    "    :Reviews,\n",
    "    :Size,\n",
    "    :Installs\n",
    "]"
   ]
  },
  {
   "cell_type": "code",
   "execution_count": 10,
   "metadata": {},
   "outputs": [
    {
     "data": {
      "text/plain": [
       "2168×4 Array{Float64,2}:\n",
       "  95904.0        33.0       1.0e7  1.0\n",
       " 798522.0        57.0       1.0e8  1.0\n",
       "    187.0         2.9   10000.0    1.0\n",
       "      0.0        44.0      10.0    1.0\n",
       "    214.0         0.9   10000.0    1.0\n",
       "     36.0         9.4    1000.0    1.0\n",
       "      0.0         2.9     100.0    1.0\n",
       "   1478.0        43.0  100000.0    1.0\n",
       "    278.0         2.8  100000.0    1.0\n",
       "      5.56667e6  97.0       1.0e8  1.0\n",
       "     25.0         4.7    1000.0    1.0\n",
       "   7869.0        21.0       1.0e6  1.0\n",
       " 254258.0        23.0       1.0e7  1.0\n",
       "      ⋮                            \n",
       "     21.0        21.0    1000.0    1.0\n",
       "      0.0         6.3       5.0    1.0\n",
       "      1.1079e6    0.0       1.0e7  1.0\n",
       "   2580.0        53.0  100000.0    1.0\n",
       "     16.0         3.7    1000.0    1.0\n",
       " 951435.0        14.0       5.0e7  1.0\n",
       " 928720.0         0.0       5.0e7  1.0\n",
       "  13004.0        46.0  100000.0    1.0\n",
       "   2375.0         0.0  100000.0    1.0\n",
       " 222664.0        98.0       1.0e7  1.0\n",
       "    137.0        11.0    1000.0    1.0\n",
       "  17057.0         0.0       1.0e6  1.0"
      ]
     },
     "execution_count": 10,
     "metadata": {},
     "output_type": "execute_result"
    }
   ],
   "source": [
    "train_vals_real = convert(Matrix, string_to_float.(train_x[:, labels_real]))\n",
    "test_vals_real = convert(Matrix, string_to_float.(test_x[:, labels_real]))\n",
    "\n",
    "train_vals_real = hcat(train_vals_real, ones(ntrain, 1))\n",
    "test_vals_real = hcat(test_vals_real, ones(ntest, 1))"
   ]
  },
  {
   "cell_type": "code",
   "execution_count": 11,
   "metadata": {},
   "outputs": [
    {
     "data": {
      "text/plain": [
       "MSE"
      ]
     },
     "execution_count": 11,
     "metadata": {},
     "output_type": "execute_result"
    }
   ],
   "source": [
    "\"\"\"This function just computes the mean squared error.\"\"\"\n",
    "function MSE(y, pred)\n",
    "    return mean((y .- pred) .^ 2)\n",
    "end"
   ]
  },
  {
   "cell_type": "code",
   "execution_count": 12,
   "metadata": {},
   "outputs": [
    {
     "data": {
      "text/plain": [
       "plotDiagonal"
      ]
     },
     "execution_count": 12,
     "metadata": {},
     "output_type": "execute_result"
    }
   ],
   "source": [
    "\"\"\"This function plots the main diagonal;\n",
    "for a \"predicted vs true\" plot with perfect predictions,\n",
    "all data lies on this line\"\"\"\n",
    "function plotDiagonal(xmin, xmax)\n",
    "    xsamples = [xmin, xmax]\n",
    "    plot!(xsamples, xsamples, color=:black)\n",
    "end"
   ]
  },
  {
   "cell_type": "code",
   "execution_count": 13,
   "metadata": {},
   "outputs": [
    {
     "ename": "LoadError",
     "evalue": "syntax: cannot juxtapose string literal",
     "output_type": "error",
     "traceback": [
      "syntax: cannot juxtapose string literal",
      "",
      "Stacktrace:",
      " [1] top-level scope at In[13]:1",
      " [2] include_string(::Function, ::Module, ::String, ::String) at ./loading.jl:1091",
      " [3] execute_code(::String, ::String) at /Users/meredithdobrzynski/.julia/packages/IJulia/rWZ9e/src/execute_request.jl:27",
      " [4] execute_request(::ZMQ.Socket, ::IJulia.Msg) at /Users/meredithdobrzynski/.julia/packages/IJulia/rWZ9e/src/execute_request.jl:86",
      " [5] #invokelatest#1 at ./essentials.jl:710 [inlined]",
      " [6] invokelatest at ./essentials.jl:709 [inlined]",
      " [7] eventloop(::ZMQ.Socket) at /Users/meredithdobrzynski/.julia/packages/IJulia/rWZ9e/src/eventloop.jl:8",
      " [8] (::IJulia.var\"#15#18\")() at ./task.jl:356"
     ]
    }
   ],
   "source": [
    "\"\"\"This helper funciton plots x vs, y and labels the axes.\"\"\"\"\"\"This helper funciton plots x vs, y and labels the axes.\"\"\"\n",
    "function plotdata(x,y,xname, yname; margin=.05, plotDiag=true, zeromin=false)\n",
    "    scatter(x,y, label=\"data\")\n",
    "    xlabel!(xname)\n",
    "    ylabel!(yname)\n",
    "    range_y = maximum(y) - minimum(y)\n",
    "    range_x = maximum(x) - minimum(x)\n",
    "    if plotDiag\n",
    "        plotDiagonal(minimum(x)-margin*range_x, maximum(x)+margin*range_x)\n",
    "    end\n",
    "    if zeromin\n",
    "        ylims!((0.0,maximum(y)+margin*range_y))\n",
    "        xlims!((0.0,maximum(x)+margin*range_x))\n",
    "    else\n",
    "        ylims!((minimum(y)-margin*range_y,maximum(y)+margin*range_y))\n",
    "        xlims!((minimum(x)-margin*range_x,maximum(x)+margin*range_x))\n",
    "    end\n",
    "end\n",
    "\n",
    "function plotdata(x,y,xname, yname; margin=.05, plotDiag=true, zeromin=false)\n",
    "    scatter(x,y, label=\"data\")\n",
    "    xlabel!(xname)\n",
    "    ylabel!(yname)\n",
    "    range_y = maximum(y) - minimum(y)\n",
    "    range_x = maximum(x) - minimum(x)\n",
    "    if plotDiag\n",
    "        plotDiagonal(minimum(x)-margin*range_x, maximum(x)+margin*range_x)\n",
    "    end\n",
    "    if zeromin\n",
    "        ylims!((0.0,maximum(y)+margin*range_y))\n",
    "        xlims!((0.0,maximum(x)+margin*range_x))\n",
    "    else\n",
    "        ylims!((minimum(y)-margin*range_y,maximum(y)+margin*range_y))\n",
    "        xlims!((minimum(x)-margin*range_x,maximum(x)+margin*range_x))\n",
    "    end\n",
    "end\n"
   ]
  },
  {
   "cell_type": "code",
   "execution_count": 14,
   "metadata": {},
   "outputs": [
    {
     "data": {
      "text/plain": [
       "plotdata"
      ]
     },
     "execution_count": 14,
     "metadata": {},
     "output_type": "execute_result"
    }
   ],
   "source": [
    "\"\"\"This helper funciton plots x vs, y and labels the axes.\"\"\"\n",
    "function plotdata(x,y,xname, yname; margin=.05, plotDiag=true, zeromin=false)\n",
    "    scatter(x,y, label=\"data\")\n",
    "    xlabel!(xname)\n",
    "    ylabel!(yname)\n",
    "    range_y = maximum(y) - minimum(y)\n",
    "    range_x = maximum(x) - minimum(x)\n",
    "    if plotDiag\n",
    "        plotDiagonal(minimum(x)-margin*range_x, maximum(x)+margin*range_x)\n",
    "    end\n",
    "    if zeromin\n",
    "        ylims!((0.0,maximum(y)+margin*range_y))\n",
    "        xlims!((0.0,maximum(x)+margin*range_x))\n",
    "    else\n",
    "        ylims!((minimum(y)-margin*range_y,maximum(y)+margin*range_y))\n",
    "        xlims!((minimum(x)-margin*range_x,maximum(x)+margin*range_x))\n",
    "    end\n",
    "end"
   ]
  },
  {
   "cell_type": "code",
   "execution_count": 15,
   "metadata": {},
   "outputs": [
    {
     "data": {
      "text/plain": [
       "plot_pred_true"
      ]
     },
     "execution_count": 15,
     "metadata": {},
     "output_type": "execute_result"
    }
   ],
   "source": [
    "\"\"\"This function plots the predicted labels vs the actual labels\n",
    "(We only plots the first 1000 points to avoid slow plots.)\"\"\"\n",
    "function plot_pred_true(test_pred, test_y, max_points = 1000)\n",
    "    plotdata(test_pred[1:max_points], test_y[1:max_points], \"Predicted Rating\", \"True Rating\", zeromin=true)\n",
    "end"
   ]
  },
  {
   "cell_type": "code",
   "execution_count": 16,
   "metadata": {},
   "outputs": [
    {
     "data": {
      "text/plain": [
       "0.23535736708805874"
      ]
     },
     "execution_count": 16,
     "metadata": {},
     "output_type": "execute_result"
    }
   ],
   "source": [
    "# The weights of your linear equation (compute via least squares)\n",
    "w = train_vals_real \\ train_y\n",
    "\n",
    "#Your prediction vectors\n",
    "train_pred = [sum(w.*train_vals_real[i, :]) for i=1:size(train_vals_real, 1)] \n",
    "test_pred = [sum(w.*test_vals_real[i, :]) for i=1:size(test_vals_real, 1)] \n",
    "\n",
    "#The mean squared error for your predictions.\n",
    "train_MSE = MSE(train_y, train_pred)\n",
    "test_MSE = MSE(test_y, test_pred)"
   ]
  },
  {
   "cell_type": "code",
   "execution_count": 17,
   "metadata": {},
   "outputs": [
    {
     "name": "stdout",
     "output_type": "stream",
     "text": [
      "Train MSE\t0.22611291066604808\n",
      "Test MSE \t0.23535736708805874\n"
     ]
    },
    {
     "data": {
      "image/png": "[encoded data removed]"
     },
     "execution_count": 17,
     "metadata": {},
     "output_type": "execute_result"
    }
   ],
   "source": [
    "println(\"Train MSE\\t\", train_MSE)\n",
    "println(\"Test MSE \\t\", test_MSE)\n",
    "\n",
    "plot_pred_true(test_pred, test_y)"
   ]
  },
  {
   "cell_type": "markdown",
   "metadata": {},
   "source": [
    "# (C) One-Hot Encoding"
   ]
  },
  {
   "cell_type": "code",
   "execution_count": 18,
   "metadata": {},
   "outputs": [
    {
     "data": {
      "text/plain": [
       "3-element Array{Array{String,1},1}:\n",
       " [\"TOOLS\", \"PRODUCTIVITY\", \"BUSINESS\", \"PARENTING\", \"FAMILY\", \"GAME\", \"BOOKS_AND_REFERENCE\", \"SHOPPING\", \"MEDICAL\", \"DATING\"  …  \"MAPS_AND_NAVIGATION\", \"VIDEO_PLAYERS\", \"EDUCATION\", \"COMICS\", \"ENTERTAINMENT\", \"WEATHER\", \"EVENTS\", \"ART_AND_DESIGN\", \"AUTO_AND_VEHICLES\", \"BEAUTY\"]\n",
       " [\"Free\", \"Paid\", \"NaN\"]\n",
       " [\"Everyone\", \"Teen\", \"Everyone 10+\", \"Mature 17+\", \"Adults only 18+\", \"Unrated\"]"
      ]
     },
     "execution_count": 18,
     "metadata": {},
     "output_type": "execute_result"
    }
   ],
   "source": [
    "# Create one hot encoding for category-type columns \n",
    "\n",
    "cat_labels = [\n",
    "    :Category,\n",
    "    :Type,\n",
    "    :ContentRating\n",
    "]\n",
    "\n",
    "#Sets of all categories in a particular column\n",
    "cats_sets = [unique(train_x[:, label]) for label in cat_labels]"
   ]
  },
  {
   "cell_type": "code",
   "execution_count": 19,
   "metadata": {},
   "outputs": [
    {
     "data": {
      "text/plain": [
       "onehot"
      ]
     },
     "execution_count": 19,
     "metadata": {},
     "output_type": "execute_result"
    }
   ],
   "source": [
    "\"Computes a onehot vector for every entry in column given a set of categories cats\"\n",
    "function onehot(column, cats=unique(column))\n",
    "    n = size(column,1) \n",
    "    d = size(cats,1) \n",
    "    result = zeros(n, d)\n",
    "    for i = 1:n \n",
    "        for j=1:d\n",
    "            if column[i] == cats[j] \n",
    "                result[i, j] = 1\n",
    "            end \n",
    "        end\n",
    "    end\n",
    "    return result\n",
    "end"
   ]
  },
  {
   "cell_type": "code",
   "execution_count": 20,
   "metadata": {},
   "outputs": [
    {
     "data": {
      "text/plain": [
       "8672×33 Array{Float64,2}:\n",
       " 1.0  0.0  0.0  0.0  0.0  0.0  0.0  0.0  …  0.0  0.0  0.0  0.0  0.0  0.0  0.0\n",
       " 0.0  1.0  0.0  0.0  0.0  0.0  0.0  0.0     0.0  0.0  0.0  0.0  0.0  0.0  0.0\n",
       " 0.0  0.0  1.0  0.0  0.0  0.0  0.0  0.0     0.0  0.0  0.0  0.0  0.0  0.0  0.0\n",
       " 0.0  0.0  1.0  0.0  0.0  0.0  0.0  0.0     0.0  0.0  0.0  0.0  0.0  0.0  0.0\n",
       " 0.0  0.0  0.0  1.0  0.0  0.0  0.0  0.0     0.0  0.0  0.0  0.0  0.0  0.0  0.0\n",
       " 0.0  0.0  0.0  0.0  1.0  0.0  0.0  0.0  …  0.0  0.0  0.0  0.0  0.0  0.0  0.0\n",
       " 0.0  0.0  0.0  0.0  1.0  0.0  0.0  0.0     0.0  0.0  0.0  0.0  0.0  0.0  0.0\n",
       " 0.0  0.0  0.0  0.0  1.0  0.0  0.0  0.0     0.0  0.0  0.0  0.0  0.0  0.0  0.0\n",
       " 0.0  0.0  0.0  0.0  0.0  1.0  0.0  0.0     0.0  0.0  0.0  0.0  0.0  0.0  0.0\n",
       " 0.0  0.0  0.0  0.0  0.0  0.0  1.0  0.0     0.0  0.0  0.0  0.0  0.0  0.0  0.0\n",
       " 0.0  0.0  0.0  0.0  0.0  0.0  0.0  1.0  …  0.0  0.0  0.0  0.0  0.0  0.0  0.0\n",
       " 1.0  0.0  0.0  0.0  0.0  0.0  0.0  0.0     0.0  0.0  0.0  0.0  0.0  0.0  0.0\n",
       " 0.0  0.0  0.0  0.0  0.0  0.0  0.0  0.0     0.0  0.0  0.0  0.0  0.0  0.0  0.0\n",
       " ⋮                        ⋮              ⋱                      ⋮         \n",
       " 0.0  0.0  0.0  0.0  0.0  0.0  1.0  0.0  …  0.0  0.0  0.0  0.0  0.0  0.0  0.0\n",
       " 1.0  0.0  0.0  0.0  0.0  0.0  0.0  0.0     0.0  0.0  0.0  0.0  0.0  0.0  0.0\n",
       " 0.0  0.0  0.0  0.0  1.0  0.0  0.0  0.0     0.0  0.0  0.0  0.0  0.0  0.0  0.0\n",
       " 0.0  0.0  0.0  0.0  1.0  0.0  0.0  0.0     0.0  0.0  0.0  0.0  0.0  0.0  0.0\n",
       " 0.0  0.0  0.0  0.0  0.0  1.0  0.0  0.0     0.0  0.0  0.0  0.0  0.0  0.0  0.0\n",
       " 1.0  0.0  0.0  0.0  0.0  0.0  0.0  0.0  …  0.0  0.0  0.0  0.0  0.0  0.0  0.0\n",
       " 0.0  0.0  0.0  0.0  0.0  1.0  0.0  0.0     0.0  0.0  0.0  0.0  0.0  0.0  0.0\n",
       " 0.0  0.0  0.0  0.0  0.0  0.0  0.0  0.0     0.0  0.0  0.0  0.0  0.0  0.0  0.0\n",
       " 0.0  0.0  0.0  0.0  0.0  0.0  0.0  0.0     0.0  0.0  0.0  0.0  0.0  0.0  0.0\n",
       " 0.0  0.0  0.0  0.0  0.0  0.0  0.0  0.0     0.0  0.0  0.0  0.0  0.0  0.0  0.0\n",
       " 0.0  0.0  0.0  0.0  0.0  0.0  0.0  0.0  …  0.0  0.0  0.0  0.0  0.0  0.0  0.0\n",
       " 0.0  0.0  0.0  0.0  0.0  0.0  0.0  0.0     0.0  0.0  0.0  0.0  0.0  0.0  0.0"
      ]
     },
     "execution_count": 20,
     "metadata": {},
     "output_type": "execute_result"
    }
   ],
   "source": [
    "category_onehot = onehot(train_x[:, :Category], cats_sets[1])"
   ]
  },
  {
   "cell_type": "code",
   "execution_count": 21,
   "metadata": {},
   "outputs": [
    {
     "data": {
      "text/plain": [
       "8672×3 Array{Float64,2}:\n",
       " 1.0  0.0  0.0\n",
       " 1.0  0.0  0.0\n",
       " 1.0  0.0  0.0\n",
       " 1.0  0.0  0.0\n",
       " 1.0  0.0  0.0\n",
       " 1.0  0.0  0.0\n",
       " 1.0  0.0  0.0\n",
       " 1.0  0.0  0.0\n",
       " 1.0  0.0  0.0\n",
       " 1.0  0.0  0.0\n",
       " 1.0  0.0  0.0\n",
       " 1.0  0.0  0.0\n",
       " 0.0  1.0  0.0\n",
       " ⋮         \n",
       " 1.0  0.0  0.0\n",
       " 1.0  0.0  0.0\n",
       " 1.0  0.0  0.0\n",
       " 1.0  0.0  0.0\n",
       " 1.0  0.0  0.0\n",
       " 1.0  0.0  0.0\n",
       " 1.0  0.0  0.0\n",
       " 1.0  0.0  0.0\n",
       " 1.0  0.0  0.0\n",
       " 1.0  0.0  0.0\n",
       " 1.0  0.0  0.0\n",
       " 1.0  0.0  0.0"
      ]
     },
     "execution_count": 21,
     "metadata": {},
     "output_type": "execute_result"
    }
   ],
   "source": [
    "type_onehot = onehot(train_x[:, :Type], cats_sets[2])"
   ]
  },
  {
   "cell_type": "code",
   "execution_count": 22,
   "metadata": {},
   "outputs": [
    {
     "data": {
      "text/plain": [
       "8672×6 Array{Float64,2}:\n",
       " 1.0  0.0  0.0  0.0  0.0  0.0\n",
       " 1.0  0.0  0.0  0.0  0.0  0.0\n",
       " 1.0  0.0  0.0  0.0  0.0  0.0\n",
       " 1.0  0.0  0.0  0.0  0.0  0.0\n",
       " 1.0  0.0  0.0  0.0  0.0  0.0\n",
       " 0.0  1.0  0.0  0.0  0.0  0.0\n",
       " 1.0  0.0  0.0  0.0  0.0  0.0\n",
       " 0.0  0.0  1.0  0.0  0.0  0.0\n",
       " 1.0  0.0  0.0  0.0  0.0  0.0\n",
       " 1.0  0.0  0.0  0.0  0.0  0.0\n",
       " 1.0  0.0  0.0  0.0  0.0  0.0\n",
       " 1.0  0.0  0.0  0.0  0.0  0.0\n",
       " 1.0  0.0  0.0  0.0  0.0  0.0\n",
       " ⋮                        ⋮\n",
       " 1.0  0.0  0.0  0.0  0.0  0.0\n",
       " 1.0  0.0  0.0  0.0  0.0  0.0\n",
       " 1.0  0.0  0.0  0.0  0.0  0.0\n",
       " 1.0  0.0  0.0  0.0  0.0  0.0\n",
       " 0.0  1.0  0.0  0.0  0.0  0.0\n",
       " 1.0  0.0  0.0  0.0  0.0  0.0\n",
       " 1.0  0.0  0.0  0.0  0.0  0.0\n",
       " 1.0  0.0  0.0  0.0  0.0  0.0\n",
       " 1.0  0.0  0.0  0.0  0.0  0.0\n",
       " 1.0  0.0  0.0  0.0  0.0  0.0\n",
       " 1.0  0.0  0.0  0.0  0.0  0.0\n",
       " 1.0  0.0  0.0  0.0  0.0  0.0"
      ]
     },
     "execution_count": 22,
     "metadata": {},
     "output_type": "execute_result"
    }
   ],
   "source": [
    "content_rating_onehot = onehot(train_x[:, :ContentRating], cats_sets[3])"
   ]
  },
  {
   "cell_type": "code",
   "execution_count": 23,
   "metadata": {},
   "outputs": [
    {
     "data": {
      "text/plain": [
       "2168×42 Array{Float64,2}:\n",
       " 0.0  0.0  0.0  0.0  0.0  0.0  0.0  0.0  …  0.0  1.0  0.0  0.0  0.0  0.0  0.0\n",
       " 0.0  0.0  0.0  0.0  0.0  1.0  0.0  0.0     0.0  0.0  0.0  1.0  0.0  0.0  0.0\n",
       " 0.0  0.0  0.0  0.0  1.0  0.0  0.0  0.0     0.0  1.0  0.0  0.0  0.0  0.0  0.0\n",
       " 0.0  0.0  0.0  0.0  0.0  0.0  1.0  0.0     0.0  1.0  0.0  0.0  0.0  0.0  0.0\n",
       " 0.0  0.0  0.0  0.0  0.0  0.0  0.0  0.0     0.0  1.0  0.0  0.0  0.0  0.0  0.0\n",
       " 0.0  0.0  0.0  0.0  0.0  0.0  0.0  0.0  …  0.0  1.0  0.0  0.0  0.0  0.0  0.0\n",
       " 0.0  0.0  0.0  0.0  1.0  0.0  0.0  0.0     0.0  1.0  0.0  0.0  0.0  0.0  0.0\n",
       " 0.0  0.0  0.0  0.0  1.0  0.0  0.0  0.0     0.0  1.0  0.0  0.0  0.0  0.0  0.0\n",
       " 1.0  0.0  0.0  0.0  0.0  0.0  0.0  0.0     0.0  1.0  0.0  0.0  0.0  0.0  0.0\n",
       " 0.0  0.0  0.0  0.0  0.0  1.0  0.0  0.0     0.0  1.0  0.0  0.0  0.0  0.0  0.0\n",
       " 0.0  0.0  0.0  0.0  0.0  0.0  0.0  0.0  …  0.0  1.0  0.0  0.0  0.0  0.0  0.0\n",
       " 0.0  0.0  0.0  0.0  0.0  0.0  0.0  0.0     0.0  1.0  0.0  0.0  0.0  0.0  0.0\n",
       " 0.0  0.0  0.0  0.0  0.0  1.0  0.0  0.0     0.0  1.0  0.0  0.0  0.0  0.0  0.0\n",
       " ⋮                        ⋮              ⋱  ⋮                        ⋮    \n",
       " 0.0  0.0  1.0  0.0  0.0  0.0  0.0  0.0     0.0  1.0  0.0  0.0  0.0  0.0  0.0\n",
       " 0.0  0.0  0.0  0.0  0.0  0.0  0.0  0.0     0.0  1.0  0.0  0.0  0.0  0.0  0.0\n",
       " 0.0  0.0  0.0  0.0  0.0  0.0  0.0  0.0     0.0  1.0  0.0  0.0  0.0  0.0  0.0\n",
       " 0.0  0.0  0.0  0.0  1.0  0.0  0.0  0.0     0.0  1.0  0.0  0.0  0.0  0.0  0.0\n",
       " 0.0  0.0  1.0  0.0  0.0  0.0  0.0  0.0  …  0.0  1.0  0.0  0.0  0.0  0.0  0.0\n",
       " 0.0  0.0  0.0  0.0  0.0  1.0  0.0  0.0     0.0  1.0  0.0  0.0  0.0  0.0  0.0\n",
       " 0.0  0.0  0.0  0.0  0.0  0.0  0.0  0.0     0.0  1.0  0.0  0.0  0.0  0.0  0.0\n",
       " 0.0  0.0  0.0  0.0  0.0  1.0  0.0  0.0     0.0  0.0  1.0  0.0  0.0  0.0  0.0\n",
       " 0.0  0.0  0.0  0.0  0.0  0.0  0.0  0.0     0.0  1.0  0.0  0.0  0.0  0.0  0.0\n",
       " 0.0  0.0  0.0  0.0  1.0  0.0  0.0  0.0  …  0.0  1.0  0.0  0.0  0.0  0.0  0.0\n",
       " 0.0  0.0  0.0  0.0  0.0  0.0  0.0  0.0     0.0  1.0  0.0  0.0  0.0  0.0  0.0\n",
       " 0.0  0.0  0.0  0.0  0.0  0.0  0.0  0.0     0.0  1.0  0.0  0.0  0.0  0.0  0.0"
      ]
     },
     "execution_count": 23,
     "metadata": {},
     "output_type": "execute_result"
    }
   ],
   "source": [
    "train_cat_vals = hcat([onehot(train_x[:, cat_labels[i]], cats_sets[i]) for i in 1:size(cat_labels, 1)]...)\n",
    "test_cat_vals = hcat([onehot(test_x[:, cat_labels[i]], cats_sets[i]) for i in 1:size(cat_labels, 1)]...) "
   ]
  },
  {
   "cell_type": "code",
   "execution_count": 24,
   "metadata": {},
   "outputs": [
    {
     "name": "stdout",
     "output_type": "stream",
     "text": [
      "Train MSE\t0.219617568739986\n",
      "Test MSE \t0.2328420712185042\n"
     ]
    },
    {
     "data": {
      "image/png": "[encoded data removed]"
     },
     "execution_count": 24,
     "metadata": {},
     "output_type": "execute_result"
    }
   ],
   "source": [
    "train_vals = hcat(train_cat_vals, train_vals_real)\n",
    "test_vals = hcat(test_cat_vals, test_vals_real)\n",
    "\n",
    "w = train_vals \\ train_y \n",
    "\n",
    "train_pred = [sum(w.*train_vals[i, :]) for i=1:size(train_vals, 1)] \n",
    "test_pred = [sum(w.*test_vals[i, :]) for i=1:size(test_vals, 1)] \n",
    "\n",
    "train_MSE = MSE(train_y, train_pred)\n",
    "test_MSE = MSE(test_y, test_pred)\n",
    "        \n",
    "println(\"Train MSE\\t\", train_MSE)\n",
    "println(\"Test MSE \\t\", test_MSE)\n",
    "\n",
    "plot_pred_true(test_pred, test_y)"
   ]
  },
  {
   "cell_type": "markdown",
   "metadata": {},
   "source": [
    "# (D) Many-Hot Encoding"
   ]
  },
  {
   "cell_type": "code",
   "execution_count": 25,
   "metadata": {},
   "outputs": [
    {
     "name": "stdout",
     "output_type": "stream",
     "text": [
      "[\"Tools\", \"Productivity\", \"Business\", \"Business\", \"Parenting\", \"Strategy\", \"Entertainment\", \"Puzzle\", \"Arcade\", \"Books & Reference\", \"Shopping\", \"Tools\", \"Medical\", \"Casual\", \"Dating\", \"Education\", \"Tools\", \"Arcade\", \"Communication\", \"Photography\", \"Sports\", \"Medical\", \"Social\", \"Finance\", \"Personalization\", \"Card\", \"Books & Reference\", \"Arcade\", \"Education\", \"Health & Fitness\", \"Sports\", \"Arcade\", \"Finance\", \"Finance\", \"Lifestyle\", \"Entertainment;Brain Games\", \"Casual\", \"News & Magazines\", \"Strategy\", \"Racing\", \"Food & Drink\", \"Sports\", \"Business\", \"Social\", \"Business\", \"Casual\", \"Tools\", \"Tools\", \"Casual\", \"Food & Drink\", \"Lifestyle\", \"Puzzle\", \"Action\", \"Card\", \"Dating\", \"Photography\", \"Communication\", \"Medical\", \"Personalization\", \"Food & Drink\", \"Food & Drink\", \"News & Magazines\", \"Arcade\", \"Sports\", \"Tools\", \"Action\", \"Libraries & Demo\", \"Business\", \"Role Playing\", \"Entertainment\", \"Education\", \"Tools\", \"Medical\", \"Tools\", \"Entertainment\", \"Action\", \"Communication\", \"Business\", \"Personalization\", \"Photography\", \"Finance\", \"Health & Fitness\", \"Tools\", \"House & Home\", \"Education;Action & Adventure\", \"Education\", \"Communication\", \"Business\", \"House & Home\", \"Tools\", \"Libraries & Demo\", \"Finance\", \"Photography\", \"Action;Action & Adventure\", \"Educational;Education\", \"Medical\", \"Travel & Local\", \"Entertainment\", \"Arcade\", \"Medical\"]"
     ]
    }
   ],
   "source": [
    "print(train_x[1:100, :Genres])"
   ]
  },
  {
   "cell_type": "code",
   "execution_count": 26,
   "metadata": {},
   "outputs": [
    {
     "data": {
      "text/plain": [
       "1-element Array{SubString{String},1}:\n",
       " \"Business\""
      ]
     },
     "execution_count": 26,
     "metadata": {},
     "output_type": "execute_result"
    }
   ],
   "source": [
    "split_genres(x) = split(x, \";\")\n",
    "example_genres = split_genres(train_x[4, :Genres])"
   ]
  },
  {
   "cell_type": "code",
   "execution_count": 27,
   "metadata": {},
   "outputs": [
    {
     "data": {
      "text/plain": [
       "2168-element Array{Array{SubString{String},1},1}:\n",
       " [\"Lifestyle\"]\n",
       " [\"Arcade\"]\n",
       " [\"Entertainment\"]\n",
       " [\"Books & Reference\"]\n",
       " [\"Medical\"]\n",
       " [\"Finance\"]\n",
       " [\"Entertainment\"]\n",
       " [\"Casual\"]\n",
       " [\"Tools\"]\n",
       " [\"Arcade\"]\n",
       " [\"Lifestyle\"]\n",
       " [\"Lifestyle\"]\n",
       " [\"Card\"]\n",
       " ⋮\n",
       " [\"Business\"]\n",
       " [\"Sports\"]\n",
       " [\"Education\"]\n",
       " [\"Simulation\"]\n",
       " [\"Business\"]\n",
       " [\"Racing\"]\n",
       " [\"Photography\"]\n",
       " [\"Action\"]\n",
       " [\"News & Magazines\"]\n",
       " [\"Puzzle\"]\n",
       " [\"Medical\"]\n",
       " [\"Auto & Vehicles\"]"
      ]
     },
     "execution_count": 27,
     "metadata": {},
     "output_type": "execute_result"
    }
   ],
   "source": [
    "genres_train = split_genres.(train_x[:, :Genres])\n",
    "genres_test = split_genres.(test_x[:, :Genres])"
   ]
  },
  {
   "cell_type": "code",
   "execution_count": 28,
   "metadata": {},
   "outputs": [
    {
     "data": {
      "text/plain": [
       "53-element Array{SubString{String},1}:\n",
       " \"Tools\"\n",
       " \"Productivity\"\n",
       " \"Business\"\n",
       " \"Parenting\"\n",
       " \"Strategy\"\n",
       " \"Entertainment\"\n",
       " \"Puzzle\"\n",
       " \"Arcade\"\n",
       " \"Books & Reference\"\n",
       " \"Shopping\"\n",
       " \"Medical\"\n",
       " \"Casual\"\n",
       " \"Dating\"\n",
       " ⋮\n",
       " \"Board\"\n",
       " \"Events\"\n",
       " \"Music & Video\"\n",
       " \"Pretend Play\"\n",
       " \"Casino\"\n",
       " \"Art & Design\"\n",
       " \"Auto & Vehicles\"\n",
       " \"Beauty\"\n",
       " \"Music & Audio\"\n",
       " \"Word\"\n",
       " \"Trivia\"\n",
       " \"Music\""
      ]
     },
     "execution_count": 28,
     "metadata": {},
     "output_type": "execute_result"
    }
   ],
   "source": [
    "genre_types = unique(vcat(genres_train...))"
   ]
  },
  {
   "cell_type": "code",
   "execution_count": 29,
   "metadata": {},
   "outputs": [
    {
     "data": {
      "text/plain": [
       "manyhot"
      ]
     },
     "execution_count": 29,
     "metadata": {},
     "output_type": "execute_result"
    }
   ],
   "source": [
    "\"Computes a manyhot vector for every entry in an array of arrays given a set of categories cats\"\n",
    "function manyhot(column, cats=unique(col))\n",
    "    n = size(column, 1)\n",
    "    d = size(cats, 1)\n",
    "    result = zeros(n, d)\n",
    "    \n",
    "    for i = 1:n\n",
    "        set_of_descriptions = column[i]\n",
    "        for j = 1:d \n",
    "            if cats[j] in set_of_descriptions\n",
    "                result[i, j] = 1 \n",
    "            end\n",
    "        end\n",
    "    end \n",
    "    result\n",
    "end"
   ]
  },
  {
   "cell_type": "code",
   "execution_count": 30,
   "metadata": {},
   "outputs": [
    {
     "data": {
      "text/plain": [
       "2168×53 Array{Float64,2}:\n",
       " 0.0  0.0  0.0  0.0  0.0  0.0  0.0  0.0  …  0.0  0.0  0.0  0.0  0.0  0.0  0.0\n",
       " 0.0  0.0  0.0  0.0  0.0  0.0  0.0  1.0     0.0  0.0  0.0  0.0  0.0  0.0  0.0\n",
       " 0.0  0.0  0.0  0.0  0.0  1.0  0.0  0.0     0.0  0.0  0.0  0.0  0.0  0.0  0.0\n",
       " 0.0  0.0  0.0  0.0  0.0  0.0  0.0  0.0     0.0  0.0  0.0  0.0  0.0  0.0  0.0\n",
       " 0.0  0.0  0.0  0.0  0.0  0.0  0.0  0.0     0.0  0.0  0.0  0.0  0.0  0.0  0.0\n",
       " 0.0  0.0  0.0  0.0  0.0  0.0  0.0  0.0  …  0.0  0.0  0.0  0.0  0.0  0.0  0.0\n",
       " 0.0  0.0  0.0  0.0  0.0  1.0  0.0  0.0     0.0  0.0  0.0  0.0  0.0  0.0  0.0\n",
       " 0.0  0.0  0.0  0.0  0.0  0.0  0.0  0.0     0.0  0.0  0.0  0.0  0.0  0.0  0.0\n",
       " 1.0  0.0  0.0  0.0  0.0  0.0  0.0  0.0     0.0  0.0  0.0  0.0  0.0  0.0  0.0\n",
       " 0.0  0.0  0.0  0.0  0.0  0.0  0.0  1.0     0.0  0.0  0.0  0.0  0.0  0.0  0.0\n",
       " 0.0  0.0  0.0  0.0  0.0  0.0  0.0  0.0  …  0.0  0.0  0.0  0.0  0.0  0.0  0.0\n",
       " 0.0  0.0  0.0  0.0  0.0  0.0  0.0  0.0     0.0  0.0  0.0  0.0  0.0  0.0  0.0\n",
       " 0.0  0.0  0.0  0.0  0.0  0.0  0.0  0.0     0.0  0.0  0.0  0.0  0.0  0.0  0.0\n",
       " ⋮                        ⋮              ⋱                      ⋮         \n",
       " 0.0  0.0  1.0  0.0  0.0  0.0  0.0  0.0     0.0  0.0  0.0  0.0  0.0  0.0  0.0\n",
       " 0.0  0.0  0.0  0.0  0.0  0.0  0.0  0.0     0.0  0.0  0.0  0.0  0.0  0.0  0.0\n",
       " 0.0  0.0  0.0  0.0  0.0  0.0  0.0  0.0     0.0  0.0  0.0  0.0  0.0  0.0  0.0\n",
       " 0.0  0.0  0.0  0.0  0.0  0.0  0.0  0.0     0.0  0.0  0.0  0.0  0.0  0.0  0.0\n",
       " 0.0  0.0  1.0  0.0  0.0  0.0  0.0  0.0  …  0.0  0.0  0.0  0.0  0.0  0.0  0.0\n",
       " 0.0  0.0  0.0  0.0  0.0  0.0  0.0  0.0     0.0  0.0  0.0  0.0  0.0  0.0  0.0\n",
       " 0.0  0.0  0.0  0.0  0.0  0.0  0.0  0.0     0.0  0.0  0.0  0.0  0.0  0.0  0.0\n",
       " 0.0  0.0  0.0  0.0  0.0  0.0  0.0  0.0     0.0  0.0  0.0  0.0  0.0  0.0  0.0\n",
       " 0.0  0.0  0.0  0.0  0.0  0.0  0.0  0.0     0.0  0.0  0.0  0.0  0.0  0.0  0.0\n",
       " 0.0  0.0  0.0  0.0  0.0  0.0  1.0  0.0  …  0.0  0.0  0.0  0.0  0.0  0.0  0.0\n",
       " 0.0  0.0  0.0  0.0  0.0  0.0  0.0  0.0     0.0  0.0  0.0  0.0  0.0  0.0  0.0\n",
       " 0.0  0.0  0.0  0.0  0.0  0.0  0.0  0.0     0.0  1.0  0.0  0.0  0.0  0.0  0.0"
      ]
     },
     "execution_count": 30,
     "metadata": {},
     "output_type": "execute_result"
    }
   ],
   "source": [
    "genre_vals_train = manyhot(genres_train, genre_types)\n",
    "genre_vals_test = manyhot(genres_test, genre_types)"
   ]
  },
  {
   "cell_type": "code",
   "execution_count": 31,
   "metadata": {},
   "outputs": [
    {
     "name": "stdout",
     "output_type": "stream",
     "text": [
      "Train MSE\t0.21756056222208575\n",
      "Test MSE \t0.2307205600373254\n"
     ]
    },
    {
     "data": {
      "image/png": "[encoded data removed]"
     },
     "execution_count": 31,
     "metadata": {},
     "output_type": "execute_result"
    }
   ],
   "source": [
    "train_vals = hcat(genre_vals_train, train_vals)\n",
    "test_vals = hcat(genre_vals_test, test_vals)\n",
    "\n",
    "w = train_vals \\ train_y\n",
    "\n",
    "train_pred = [sum(w.*train_vals[i, :]) for i=1:size(train_vals, 1)] \n",
    "test_pred = [sum(w.*test_vals[i, :]) for i=1:size(test_vals, 1)] \n",
    "\n",
    "train_MSE = MSE(train_y, train_pred)\n",
    "test_MSE = MSE(test_y, test_pred)\n",
    "    \n",
    "println(\"Train MSE\\t\", train_MSE)\n",
    "println(\"Test MSE \\t\", test_MSE)\n",
    "\n",
    "plot_pred_true(test_pred, test_y)"
   ]
  },
  {
   "cell_type": "markdown",
   "metadata": {
    "collapsed": true
   },
   "source": [
    "# (E) Data Exploration"
   ]
  },
  {
   "cell_type": "code",
   "execution_count": 32,
   "metadata": {},
   "outputs": [
    {
     "data": {
      "image/png": "[encoded data removed]"
     },
     "execution_count": 32,
     "metadata": {},
     "output_type": "execute_result"
    }
   ],
   "source": [
    "@df apps density(:Rating)"
   ]
  },
  {
   "cell_type": "code",
   "execution_count": 33,
   "metadata": {},
   "outputs": [
    {
     "data": {
      "image/png": "[encoded data removed]"
     },
     "execution_count": 33,
     "metadata": {},
     "output_type": "execute_result"
    }
   ],
   "source": [
    "@df apps density(:Rating, group=:Type)"
   ]
  },
  {
   "cell_type": "code",
   "execution_count": 34,
   "metadata": {},
   "outputs": [
    {
     "data": {
      "image/png": "[encoded data removed]"
     },
     "execution_count": 34,
     "metadata": {},
     "output_type": "execute_result"
    }
   ],
   "source": [
    "@df apps histogram(:Rating)"
   ]
  },
  {
   "cell_type": "code",
   "execution_count": 35,
   "metadata": {},
   "outputs": [
    {
     "name": "stdout",
     "output_type": "stream",
     "text": [
      "Any[689.0, 341.0, 369.0, 54.0, 1567.0, 930.0, 184.0, 206.0, 372.0, 185.0, 311.0, 274.0, 242.0, 287.0, 309.0, 264.0, 310.0, 290.0, 215.0, 95.0, 71.0, 70.0, 218.0, 108.0, 138.0, 132.0, 52.0, 119.0, 56.0, 53.0, 49.0, 71.0, 41.0]"
     ]
    }
   ],
   "source": [
    "category_count = [] \n",
    "for idx=1:size(category_onehot,2)\n",
    "    push!(category_count, sum(category_onehot[:, idx]))\n",
    "end \n",
    "print(category_count)"
   ]
  },
  {
   "cell_type": "code",
   "execution_count": 44,
   "metadata": {},
   "outputs": [
    {
     "data": {
      "image/png": "[encoded data removed]"
     },
     "execution_count": 44,
     "metadata": {},
     "output_type": "execute_result"
    }
   ],
   "source": [
    "bar(cats_sets[1], category_count)"
   ]
  },
  {
   "cell_type": "code",
   "execution_count": null,
   "metadata": {},
   "outputs": [],
   "source": []
  }
 ],
 "metadata": {
  "kernelspec": {
   "display_name": "Julia 1.5.2",
   "language": "julia",
   "name": "julia-1.5"
  },
  "language_info": {
   "file_extension": ".jl",
   "mimetype": "application/julia",
   "name": "julia",
   "version": "1.5.2"
  }
 },
 "nbformat": 4,
 "nbformat_minor": 2
}
